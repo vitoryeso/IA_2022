{
 "cells": [
  {
   "cell_type": "markdown",
   "id": "9c3c53e3",
   "metadata": {},
   "source": [
    "## Funcao 1\n",
    "\n",
    "### $f(x, y) = sinc(x)sinc(y)$\n",
    "### $g(x, y) = x^2 + y^2 + 2xycos( \\pi xy) + x + y - 1$\n",
    "\n",
    "Geramos valores normalmente distribuidos dentro de um intervalo real, e extraimos os seus valores pra essas func"
   ]
  },
  {
   "cell_type": "code",
   "execution_count": null,
   "id": "07b0de3e",
   "metadata": {},
   "outputs": [],
   "source": []
  }
 ],
 "metadata": {
  "kernelspec": {
   "display_name": "Python 3 (ipykernel)",
   "language": "python",
   "name": "python3"
  },
  "language_info": {
   "codemirror_mode": {
    "name": "ipython",
    "version": 3
   },
   "file_extension": ".py",
   "mimetype": "text/x-python",
   "name": "python",
   "nbconvert_exporter": "python",
   "pygments_lexer": "ipython3",
   "version": "3.8.10"
  }
 },
 "nbformat": 4,
 "nbformat_minor": 5
}
